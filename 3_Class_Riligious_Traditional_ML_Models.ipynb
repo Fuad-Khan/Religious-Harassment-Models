{
  "nbformat": 4,
  "nbformat_minor": 0,
  "metadata": {
    "colab": {
      "provenance": [],
      "mount_file_id": "1IbHVlG0sgwNi7CQHjvEDxlu_uQTnANwc",
      "authorship_tag": "ABX9TyOrjtyQPP+GRdK2Y9Gtfpf4",
      "include_colab_link": true
    },
    "kernelspec": {
      "name": "python3",
      "display_name": "Python 3"
    },
    "language_info": {
      "name": "python"
    }
  },
  "cells": [
    {
      "cell_type": "markdown",
      "metadata": {
        "id": "view-in-github",
        "colab_type": "text"
      },
      "source": [
        "<a href=\"https://colab.research.google.com/github/Fuad-Khan/Religious-Harassment-Models/blob/main/3_Class_Riligious_Traditional_ML_Models.ipynb\" target=\"_parent\"><img src=\"https://colab.research.google.com/assets/colab-badge.svg\" alt=\"Open In Colab\"/></a>"
      ]
    },
    {
      "cell_type": "markdown",
      "source": [
        "# Logistic Regression"
      ],
      "metadata": {
        "id": "iBn6EsIY3lsq"
      }
    },
    {
      "cell_type": "code",
      "source": [
        "# Step 1: Import required libraries\n",
        "import pandas as pd\n",
        "from sklearn.model_selection import train_test_split\n",
        "from sklearn.feature_extraction.text import TfidfVectorizer\n",
        "from sklearn.linear_model import LogisticRegression\n",
        "from sklearn.metrics import classification_report, accuracy_score\n",
        "import pickle\n",
        "\n",
        "# Step 2: Load the dataset\n",
        "file_path = \"/content/drive/MyDrive/Research Paper/Data Preprocessing/Cleaned_Labeled_Religious_Comments_Numeric_2.0.csv\"\n",
        "df = pd.read_csv(file_path)\n",
        "\n",
        "# Step 3: Use comment text and numeric label\n",
        "text_column = 'comment'\n",
        "label_column = 'label_numeric'  # use numeric labels (0, 1, 2)\n",
        "\n",
        "# Step 4: Split into train and test sets\n",
        "X = df[text_column].astype(str)\n",
        "y = df[label_column].astype(int)\n",
        "X_train, X_test, y_train, y_test = train_test_split(X, y, test_size=0.2, random_state=42)\n",
        "\n",
        "# Step 5: TF-IDF Vectorization\n",
        "vectorizer = TfidfVectorizer(max_features=5000, stop_words='english')\n",
        "X_train_tfidf = vectorizer.fit_transform(X_train)\n",
        "X_test_tfidf = vectorizer.transform(X_test)\n",
        "\n",
        "# Step 6: Train Logistic Regression for multiclass\n",
        "model = LogisticRegression(multi_class='multinomial', solver='lbfgs', max_iter=1000)\n",
        "model.fit(X_train_tfidf, y_train)\n",
        "\n",
        "# Step 7: Predictions and evaluation\n",
        "y_pred = model.predict(X_test_tfidf)\n",
        "print(\"Accuracy:\", accuracy_score(y_test, y_pred))\n",
        "print(\"Classification Report:\\n\", classification_report(y_test, y_pred))\n",
        "\n",
        "# Step 8: Save model and vectorizer\n",
        "with open(\"/content/drive/MyDrive/Research Paper/Models/ Traditional ML Models/Riligious_logistic_model.pkl\", \"wb\") as f:\n",
        "    pickle.dump(model, f)\n",
        "\n",
        "with open(\"/content/drive/MyDrive/Research Paper/Models/ Traditional ML Models/logistic_tfidf_vectorizer.pkl\", \"wb\") as f:\n",
        "    pickle.dump(vectorizer, f)\n"
      ],
      "metadata": {
        "colab": {
          "base_uri": "https://localhost:8080/"
        },
        "id": "nYGGQrV73svd",
        "outputId": "a159d456-9f0e-4019-da26-7124afbca1f9"
      },
      "execution_count": null,
      "outputs": [
        {
          "output_type": "stream",
          "name": "stderr",
          "text": [
            "/usr/local/lib/python3.11/dist-packages/sklearn/linear_model/_logistic.py:1247: FutureWarning: 'multi_class' was deprecated in version 1.5 and will be removed in 1.7. From then on, it will always use 'multinomial'. Leave it to its default value to avoid this warning.\n",
            "  warnings.warn(\n"
          ]
        },
        {
          "output_type": "stream",
          "name": "stdout",
          "text": [
            "Accuracy: 0.7434362934362935\n",
            "Classification Report:\n",
            "               precision    recall  f1-score   support\n",
            "\n",
            "           0       0.77      0.89      0.83      2552\n",
            "           1       0.77      0.60      0.67      1102\n",
            "           2       0.67      0.61      0.63      1526\n",
            "\n",
            "    accuracy                           0.74      5180\n",
            "   macro avg       0.74      0.70      0.71      5180\n",
            "weighted avg       0.74      0.74      0.74      5180\n",
            "\n"
          ]
        }
      ]
    },
    {
      "cell_type": "markdown",
      "source": [
        "# SVM"
      ],
      "metadata": {
        "id": "ePhiVKxg8jzQ"
      }
    },
    {
      "cell_type": "code",
      "source": [
        "# Step 1: Install required library for saving model\n",
        "!pip install -q joblib\n",
        "\n",
        "# Step 2: Import libraries\n",
        "import pandas as pd\n",
        "from sklearn.model_selection import train_test_split\n",
        "from sklearn.feature_extraction.text import TfidfVectorizer\n",
        "from sklearn.svm import SVC\n",
        "from sklearn.metrics import classification_report, accuracy_score\n",
        "import joblib\n",
        "\n",
        "# Step 3: Load the dataset\n",
        "file_path = \"/content/drive/MyDrive/Research Paper/Data Preprocessing/Cleaned_Labeled_Religious_Comments_Numeric_2.0.csv\"\n",
        "df = pd.read_csv(file_path)\n",
        "\n",
        "# Step 4: Define feature and numeric label columns\n",
        "text_column = 'comment'\n",
        "label_column = 'label_numeric'  # ✅ Use numeric labels for 3-class classification\n",
        "X = df[text_column].astype(str)\n",
        "y = df[label_column].astype(int)\n",
        "\n",
        "# Step 5: Split into training and testing sets\n",
        "X_train, X_test, y_train, y_test = train_test_split(X, y, test_size=0.2, random_state=42)\n",
        "\n",
        "# Step 6: TF-IDF vectorization\n",
        "vectorizer = TfidfVectorizer(max_features=5000, stop_words='english')\n",
        "X_train_tfidf = vectorizer.fit_transform(X_train)\n",
        "X_test_tfidf = vectorizer.transform(X_test)\n",
        "\n",
        "# Step 7: Train SVM model (multiclass with linear kernel)\n",
        "svm_model = SVC(kernel='linear', decision_function_shape='ovr')  # One-vs-Rest for multi-class\n",
        "svm_model.fit(X_train_tfidf, y_train)\n",
        "\n",
        "# Step 8: Evaluate model\n",
        "y_pred = svm_model.predict(X_test_tfidf)\n",
        "print(\"Accuracy:\", accuracy_score(y_test, y_pred))\n",
        "print(\"Classification Report:\\n\", classification_report(y_test, y_pred))\n",
        "\n",
        "# Step 9: Save model and vectorizer\n",
        "joblib.dump(svm_model, '/content/drive/MyDrive/Research Paper/Models/ Traditional ML Models/Riligious_svm_model.joblib')\n",
        "joblib.dump(vectorizer, '/content/drive/MyDrive/Research Paper/Models/ Traditional ML Models/svm_tfidf_vectorizer.joblib')\n",
        "\n",
        "print(\"✅ Model saved as 'Riligious_svm_model.joblib'\")\n",
        "print(\"✅ Vectorizer saved as 'svm_tfidf_vectorizer.joblib'\")\n"
      ],
      "metadata": {
        "colab": {
          "base_uri": "https://localhost:8080/"
        },
        "id": "i25KgaPQ8mjW",
        "outputId": "96e73968-1a66-407a-f675-f5e7c40c6dd2"
      },
      "execution_count": null,
      "outputs": [
        {
          "output_type": "stream",
          "name": "stdout",
          "text": [
            "Accuracy: 0.7447876447876448\n",
            "Classification Report:\n",
            "               precision    recall  f1-score   support\n",
            "\n",
            "           0       0.77      0.89      0.83      2552\n",
            "           1       0.77      0.62      0.69      1102\n",
            "           2       0.67      0.59      0.63      1526\n",
            "\n",
            "    accuracy                           0.74      5180\n",
            "   macro avg       0.74      0.70      0.71      5180\n",
            "weighted avg       0.74      0.74      0.74      5180\n",
            "\n",
            "✅ Model saved as 'Riligious_svm_model.joblib'\n",
            "✅ Vectorizer saved as 'svm_tfidf_vectorizer.joblib'\n"
          ]
        }
      ]
    },
    {
      "cell_type": "markdown",
      "source": [
        "#  Random Forest model"
      ],
      "metadata": {
        "id": "IuhV5tjn9MW3"
      }
    },
    {
      "cell_type": "code",
      "source": [
        "# Step 1: Install joblib for model saving\n",
        "!pip install -q joblib\n",
        "\n",
        "# Step 2: Import required libraries\n",
        "import pandas as pd\n",
        "from sklearn.model_selection import train_test_split\n",
        "from sklearn.feature_extraction.text import TfidfVectorizer\n",
        "from sklearn.ensemble import RandomForestClassifier\n",
        "from sklearn.metrics import accuracy_score, classification_report\n",
        "import joblib\n",
        "import matplotlib.pyplot as plt\n",
        "import numpy as np\n",
        "\n",
        "# Step 3: Load dataset\n",
        "file_path = \"/content/drive/MyDrive/Research Paper/Data Preprocessing/Cleaned_Labeled_Religious_Comments_Numeric_2.0.csv\"\n",
        "df = pd.read_csv(file_path)\n",
        "\n",
        "# Step 4: Check and define columns\n",
        "print(df.head())\n",
        "print(df.columns)\n",
        "\n",
        "text_column = 'comment'           # Feature column\n",
        "label_column = 'label_numeric'    # ✅ Numeric 3-class label column\n",
        "\n",
        "# Step 5: Split data\n",
        "X = df[text_column].astype(str)\n",
        "y = df[label_column].astype(int)\n",
        "X_train, X_test, y_train, y_test = train_test_split(X, y, test_size=0.2, random_state=42)\n",
        "\n",
        "# Step 6: TF-IDF Vectorization\n",
        "vectorizer = TfidfVectorizer(max_features=5000, stop_words='english')\n",
        "X_train_tfidf = vectorizer.fit_transform(X_train)\n",
        "X_test_tfidf = vectorizer.transform(X_test)\n",
        "\n",
        "# Step 7: Train Random Forest model\n",
        "rf_model = RandomForestClassifier(n_estimators=100, random_state=42)\n",
        "rf_model.fit(X_train_tfidf, y_train)\n",
        "\n",
        "# Step 8: Evaluate model\n",
        "y_pred = rf_model.predict(X_test_tfidf)\n",
        "print(\"Accuracy:\", accuracy_score(y_test, y_pred))\n",
        "print(\"Classification Report:\\n\", classification_report(y_test, y_pred))\n",
        "\n",
        "# Step 9: Save model and vectorizer\n",
        "joblib.dump(rf_model, '/content/drive/MyDrive/Research Paper/Models/ Traditional ML Models/Riligious_random_forest_model.joblib')\n",
        "joblib.dump(vectorizer, '/content/drive/MyDrive/Research Paper/Models/ Traditional ML Models/tfidf_vectorizer.joblib')\n",
        "\n",
        "print(\"✅ Model saved as 'Riligious_random_forest_model.joblib'\")\n",
        "print(\"✅ Vectorizer saved as 'random_forest_tfidf_vectorizer.joblib'\")\n"
      ],
      "metadata": {
        "colab": {
          "base_uri": "https://localhost:8080/"
        },
        "id": "EPEHE2Dy9ObP",
        "outputId": "b167f208-ca6f-456d-bd74-323ea10e2591"
      },
      "execution_count": null,
      "outputs": [
        {
          "output_type": "stream",
          "name": "stdout",
          "text": [
            "                                             comment                 label  \\\n",
            "0  বকরি ঈদ  রমজান  মহরমে পরিবেশ দুষিত হয় না  এগুল...             Religious   \n",
            "1  ওরে তোদের লুঙ্গি দাদু ও ছেলের গলা কেটেছিল  তুই...         Not Religious   \n",
            "2                   ইসলাম বুঝলে ও আরও বর্বর হয়ে যাবে  Religious Harassment   \n",
            "3                           ভাই  হিন্দু কোন ধর্মই না             Religious   \n",
            "4       এই ভাবনাটাই কোনো ধর্মের সবচেয়ে নিচ ও হীন দিক             Religious   \n",
            "\n",
            "   label_numeric  \n",
            "0              1  \n",
            "1              0  \n",
            "2              2  \n",
            "3              1  \n",
            "4              1  \n",
            "Index(['comment', 'label', 'label_numeric'], dtype='object')\n",
            "Accuracy: 0.7386100386100386\n",
            "Classification Report:\n",
            "               precision    recall  f1-score   support\n",
            "\n",
            "           0       0.76      0.90      0.82      2552\n",
            "           1       0.79      0.58      0.67      1102\n",
            "           2       0.67      0.58      0.62      1526\n",
            "\n",
            "    accuracy                           0.74      5180\n",
            "   macro avg       0.74      0.69      0.70      5180\n",
            "weighted avg       0.74      0.74      0.73      5180\n",
            "\n",
            "✅ Model saved as 'Riligious_random_forest_model.joblib'\n",
            "✅ Vectorizer saved as 'random_forest_tfidf_vectorizer.joblib'\n"
          ]
        }
      ]
    }
  ]
}