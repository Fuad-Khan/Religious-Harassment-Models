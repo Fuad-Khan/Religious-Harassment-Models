{
  "nbformat": 4,
  "nbformat_minor": 0,
  "metadata": {
    "colab": {
      "provenance": [],
      "authorship_tag": "ABX9TyMWEvv+OYnquD8aQS3b3N2h",
      "include_colab_link": true
    },
    "kernelspec": {
      "name": "python3",
      "display_name": "Python 3"
    },
    "language_info": {
      "name": "python"
    }
  },
  "cells": [
    {
      "cell_type": "markdown",
      "metadata": {
        "id": "view-in-github",
        "colab_type": "text"
      },
      "source": [
        "<a href=\"https://colab.research.google.com/github/Fuad-Khan/Religious-Harassment-Models/blob/main/Research_Traditional_ML_Models.ipynb\" target=\"_parent\"><img src=\"https://colab.research.google.com/assets/colab-badge.svg\" alt=\"Open In Colab\"/></a>"
      ]
    },
    {
      "cell_type": "markdown",
      "source": [
        "# Logistic Regression"
      ],
      "metadata": {
        "id": "iBn6EsIY3lsq"
      }
    },
    {
      "cell_type": "code",
      "source": [
        "# Step 1: Import required libraries\n",
        "import pandas as pd\n",
        "from sklearn.model_selection import train_test_split\n",
        "from sklearn.feature_extraction.text import TfidfVectorizer\n",
        "from sklearn.linear_model import LogisticRegression\n",
        "from sklearn.metrics import classification_report, accuracy_score\n",
        "\n",
        "# Step 2: Load the dataset\n",
        "file_path = \"/content/Cleaned_Labeled_Religious_Comments.csv\"  # Make sure to upload the file to Colab\n",
        "df = pd.read_csv(file_path)\n",
        "\n",
        "# Step 3: Inspect the dataset\n",
        "print(df.head())\n",
        "print(df.columns)\n",
        "\n",
        "# Step 4: Rename columns if necessary (assume text and label are 'comment' and 'label')\n",
        "text_column = 'comment'  # Change if different\n",
        "label_column = 'label'   # Change if different\n",
        "\n",
        "# Step 5: Split data into train and test sets\n",
        "X = df[text_column]\n",
        "y = df[label_column]\n",
        "X_train, X_test, y_train, y_test = train_test_split(X, y, test_size=0.2, random_state=42)\n",
        "\n",
        "# Step 6: Convert text to TF-IDF vectors\n",
        "vectorizer = TfidfVectorizer(max_features=5000, stop_words='english')\n",
        "X_train_tfidf = vectorizer.fit_transform(X_train)\n",
        "X_test_tfidf = vectorizer.transform(X_test)\n",
        "\n",
        "# Step 7: Train Logistic Regression model\n",
        "model = LogisticRegression()\n",
        "model.fit(X_train_tfidf, y_train)\n",
        "\n",
        "# Step 8: Make predictions and evaluate\n",
        "y_pred = model.predict(X_test_tfidf)\n",
        "print(\"Accuracy:\", accuracy_score(y_test, y_pred))\n",
        "print(\"Classification Report:\\n\", classification_report(y_test, y_pred))\n"
      ],
      "metadata": {
        "colab": {
          "base_uri": "https://localhost:8080/"
        },
        "id": "nYGGQrV73svd",
        "outputId": "8f829e03-ef97-483d-bb69-498a0d752d6d"
      },
      "execution_count": null,
      "outputs": [
        {
          "output_type": "stream",
          "name": "stdout",
          "text": [
            "                                            comment                 label  \\\n",
            "0  ঘরে বসে শুট করতে কেমন লেগেছে ক্যামেরাতে কে ছিলেন         Not Religious   \n",
            "1                           অরে বাবা এই টা কোন পাগল  Religious Harassment   \n",
            "2                             ক্যাপ্টেন অফ বাংলাদেশ         Not Religious   \n",
            "3                               অন্যরকম  ভালো লাগলো         Not Religious   \n",
            "4                       মোহাম্মদ কফিল উদ্দীন মাহমুদ             Religious   \n",
            "\n",
            "   label_binary  \n",
            "0             0  \n",
            "1             1  \n",
            "2             0  \n",
            "3             0  \n",
            "4             0  \n",
            "Index(['comment', 'label', 'label_binary'], dtype='object')\n",
            "Accuracy: 0.7554537521815009\n",
            "Classification Report:\n",
            "                       precision    recall  f1-score   support\n",
            "\n",
            "       Not Religious       0.77      0.89      0.83      2278\n",
            "           Religious       0.79      0.59      0.68       958\n",
            "Religious Harassment       0.70      0.65      0.67      1348\n",
            "\n",
            "            accuracy                           0.76      4584\n",
            "           macro avg       0.75      0.71      0.72      4584\n",
            "        weighted avg       0.75      0.76      0.75      4584\n",
            "\n"
          ]
        }
      ]
    },
    {
      "cell_type": "markdown",
      "source": [
        "# SVM"
      ],
      "metadata": {
        "id": "ePhiVKxg8jzQ"
      }
    },
    {
      "cell_type": "code",
      "source": [
        "# Step 1: Install required library for saving model\n",
        "!pip install joblib\n",
        "\n",
        "# Step 2: Import libraries\n",
        "import pandas as pd\n",
        "from sklearn.model_selection import train_test_split\n",
        "from sklearn.feature_extraction.text import TfidfVectorizer\n",
        "from sklearn.svm import SVC\n",
        "from sklearn.metrics import classification_report, accuracy_score\n",
        "import joblib\n",
        "\n",
        "# Step 3: Load the dataset\n",
        "file_path = \"/content/Cleaned_Labeled_Religious_Comments.csv\"  # Ensure file is uploaded\n",
        "df = pd.read_csv(file_path)\n",
        "\n",
        "# Step 4: Inspect dataset\n",
        "print(df.head())\n",
        "print(df.columns)\n",
        "\n",
        "# Step 5: Define feature and label columns\n",
        "text_column = 'comment'  # Update if different\n",
        "label_column = 'label'   # Update if different\n",
        "X = df[text_column]\n",
        "y = df[label_column]\n",
        "\n",
        "# Step 6: Split into training and testing sets\n",
        "X_train, X_test, y_train, y_test = train_test_split(X, y, test_size=0.2, random_state=42)\n",
        "\n",
        "# Step 7: TF-IDF vectorization\n",
        "vectorizer = TfidfVectorizer(max_features=5000, stop_words='english')\n",
        "X_train_tfidf = vectorizer.fit_transform(X_train)\n",
        "X_test_tfidf = vectorizer.transform(X_test)\n",
        "\n",
        "# Step 8: Train SVM model\n",
        "svm_model = SVC(kernel='linear')  # Linear kernel works well for high-dimensional data\n",
        "svm_model.fit(X_train_tfidf, y_train)\n",
        "\n",
        "# Step 9: Evaluate model\n",
        "y_pred = svm_model.predict(X_test_tfidf)\n",
        "print(\"Accuracy:\", accuracy_score(y_test, y_pred))\n",
        "print(\"Classification Report:\\n\", classification_report(y_test, y_pred))\n",
        "\n",
        "# Step 10: Save the trained model and vectorizer\n",
        "joblib.dump(svm_model, 'svm_model.joblib')\n",
        "joblib.dump(vectorizer, 'tfidf_vectorizer.joblib')\n",
        "\n",
        "print(\"Model and vectorizer saved as 'svm_model.joblib' and 'tfidf_vectorizer.joblib'\")\n"
      ],
      "metadata": {
        "colab": {
          "base_uri": "https://localhost:8080/"
        },
        "id": "i25KgaPQ8mjW",
        "outputId": "71f4e4fb-3fd1-4d69-def4-049e7f6d8664"
      },
      "execution_count": null,
      "outputs": [
        {
          "output_type": "stream",
          "name": "stdout",
          "text": [
            "Requirement already satisfied: joblib in /usr/local/lib/python3.11/dist-packages (1.5.0)\n",
            "                                            comment                 label  \\\n",
            "0  ঘরে বসে শুট করতে কেমন লেগেছে ক্যামেরাতে কে ছিলেন         Not Religious   \n",
            "1                           অরে বাবা এই টা কোন পাগল  Religious Harassment   \n",
            "2                             ক্যাপ্টেন অফ বাংলাদেশ         Not Religious   \n",
            "3                               অন্যরকম  ভালো লাগলো         Not Religious   \n",
            "4                       মোহাম্মদ কফিল উদ্দীন মাহমুদ             Religious   \n",
            "\n",
            "   label_binary  \n",
            "0             0  \n",
            "1             1  \n",
            "2             0  \n",
            "3             0  \n",
            "4             0  \n",
            "Index(['comment', 'label', 'label_binary'], dtype='object')\n",
            "Accuracy: 0.7528359511343804\n",
            "Classification Report:\n",
            "                       precision    recall  f1-score   support\n",
            "\n",
            "       Not Religious       0.77      0.89      0.83      2278\n",
            "           Religious       0.79      0.59      0.68       958\n",
            "Religious Harassment       0.69      0.64      0.66      1348\n",
            "\n",
            "            accuracy                           0.75      4584\n",
            "           macro avg       0.75      0.71      0.72      4584\n",
            "        weighted avg       0.75      0.75      0.75      4584\n",
            "\n",
            "Model and vectorizer saved as 'svm_model.joblib' and 'tfidf_vectorizer.joblib'\n"
          ]
        }
      ]
    },
    {
      "cell_type": "markdown",
      "source": [
        "#  Random Forest model"
      ],
      "metadata": {
        "id": "IuhV5tjn9MW3"
      }
    },
    {
      "cell_type": "code",
      "source": [
        "# Step 1: Install joblib for model saving\n",
        "!pip install joblib\n",
        "\n",
        "# Step 2: Import required libraries\n",
        "import pandas as pd\n",
        "from sklearn.model_selection import train_test_split\n",
        "from sklearn.feature_extraction.text import TfidfVectorizer\n",
        "from sklearn.ensemble import RandomForestClassifier\n",
        "from sklearn.metrics import accuracy_score, classification_report\n",
        "import joblib\n",
        "import matplotlib.pyplot as plt\n",
        "import numpy as np\n",
        "\n",
        "# Step 3: Load dataset\n",
        "file_path = \"/content/Cleaned_Labeled_Religious_Comments.csv\"  # Adjust if needed\n",
        "df = pd.read_csv(file_path)\n",
        "\n",
        "# Step 4: Check and define columns\n",
        "print(df.head())\n",
        "print(df.columns)\n",
        "text_column = 'comment'  # Change if necessary\n",
        "label_column = 'label'\n",
        "\n",
        "# Step 5: Split data\n",
        "X = df[text_column]\n",
        "y = df[label_column]\n",
        "X_train, X_test, y_train, y_test = train_test_split(X, y, test_size=0.2, random_state=42)\n",
        "\n",
        "# Step 6: TF-IDF Vectorization\n",
        "vectorizer = TfidfVectorizer(max_features=5000, stop_words='english')\n",
        "X_train_tfidf = vectorizer.fit_transform(X_train)\n",
        "X_test_tfidf = vectorizer.transform(X_test)\n",
        "\n",
        "# Step 7: Train Random Forest model\n",
        "rf_model = RandomForestClassifier(n_estimators=100, random_state=42)\n",
        "rf_model.fit(X_train_tfidf, y_train)\n",
        "\n",
        "# Step 8: Evaluate model\n",
        "y_pred = rf_model.predict(X_test_tfidf)\n",
        "print(\"Accuracy:\", accuracy_score(y_test, y_pred))\n",
        "print(\"Classification Report:\\n\", classification_report(y_test, y_pred))\n",
        "\n",
        "\n",
        "# Step 10: Save model and vectorizer\n",
        "joblib.dump(rf_model, 'random_forest_model.joblib')\n",
        "joblib.dump(vectorizer, 'tfidf_vectorizer.joblib')\n",
        "print(\"Model and vectorizer saved as 'random_forest_model.joblib' and 'tfidf_vectorizer.joblib'\")\n"
      ],
      "metadata": {
        "colab": {
          "base_uri": "https://localhost:8080/"
        },
        "id": "EPEHE2Dy9ObP",
        "outputId": "8cb38072-4223-46ea-bf44-51392c6e0bf0"
      },
      "execution_count": 6,
      "outputs": [
        {
          "output_type": "stream",
          "name": "stdout",
          "text": [
            "Requirement already satisfied: joblib in /usr/local/lib/python3.11/dist-packages (1.5.0)\n",
            "                                            comment                 label  \\\n",
            "0  ঘরে বসে শুট করতে কেমন লেগেছে ক্যামেরাতে কে ছিলেন         Not Religious   \n",
            "1                           অরে বাবা এই টা কোন পাগল  Religious Harassment   \n",
            "2                             ক্যাপ্টেন অফ বাংলাদেশ         Not Religious   \n",
            "3                               অন্যরকম  ভালো লাগলো         Not Religious   \n",
            "4                       মোহাম্মদ কফিল উদ্দীন মাহমুদ             Religious   \n",
            "\n",
            "   label_binary  \n",
            "0             0  \n",
            "1             1  \n",
            "2             0  \n",
            "3             0  \n",
            "4             0  \n",
            "Index(['comment', 'label', 'label_binary'], dtype='object')\n",
            "Accuracy: 0.7449825479930192\n",
            "Classification Report:\n",
            "                       precision    recall  f1-score   support\n",
            "\n",
            "       Not Religious       0.76      0.89      0.82      2278\n",
            "           Religious       0.82      0.56      0.67       958\n",
            "Religious Harassment       0.67      0.62      0.65      1348\n",
            "\n",
            "            accuracy                           0.74      4584\n",
            "           macro avg       0.75      0.69      0.71      4584\n",
            "        weighted avg       0.75      0.74      0.74      4584\n",
            "\n",
            "Model and vectorizer saved as 'random_forest_model.joblib' and 'tfidf_vectorizer.joblib'\n"
          ]
        }
      ]
    }
  ]
}